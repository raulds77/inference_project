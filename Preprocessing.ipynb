{
 "cells": [
  {
   "cell_type": "code",
   "execution_count": 121,
   "metadata": {
    "collapsed": true
   },
   "outputs": [],
   "source": [
    "import pandas as pd\n",
    "import numpy as np"
   ]
  },
  {
   "cell_type": "code",
   "execution_count": 122,
   "metadata": {
    "collapsed": true
   },
   "outputs": [],
   "source": [
    "df = pd.read_csv('data/responses.csv')"
   ]
  },
  {
   "cell_type": "code",
   "execution_count": 123,
   "metadata": {
    "collapsed": true
   },
   "outputs": [],
   "source": [
    "#drop non-numeric features\n",
    "'''\n",
    "observed features are first 63 columns[:63]\n",
    "ubobserved features are after first 63 columns[63:]\n",
    "'''\n",
    "df = df.drop(df.select_dtypes(exclude=[np.number]).columns,axis=1)"
   ]
  },
  {
   "cell_type": "code",
   "execution_count": 125,
   "metadata": {
    "collapsed": true
   },
   "outputs": [],
   "source": [
    "#drop non-relevant columns\n",
    "df = pd.concat([df.iloc[:,:63],df.iloc[:,74:128]],axis=1)"
   ]
  },
  {
   "cell_type": "code",
   "execution_count": 130,
   "metadata": {
    "collapsed": false
   },
   "outputs": [
    {
     "data": {
      "text/plain": [
       "Index([u'Music', u'Slow songs or fast songs', u'Dance', u'Folk', u'Country',\n",
       "       u'Classical music', u'Musical', u'Pop', u'Rock', u'Metal or Hardrock',\n",
       "       u'Punk', u'Hiphop, Rap', u'Reggae, Ska', u'Swing, Jazz', u'Rock n roll',\n",
       "       u'Alternative', u'Latino', u'Techno, Trance', u'Opera', u'Movies',\n",
       "       u'Horror', u'Thriller', u'Comedy', u'Romantic', u'Sci-fi', u'War',\n",
       "       u'Fantasy/Fairy tales', u'Animated', u'Documentary', u'Western',\n",
       "       u'Action', u'History', u'Psychology', u'Politics', u'Mathematics',\n",
       "       u'Physics', u'Internet', u'PC', u'Economy Management', u'Biology',\n",
       "       u'Chemistry', u'Reading', u'Geography', u'Foreign languages',\n",
       "       u'Medicine', u'Law', u'Cars', u'Art exhibitions', u'Religion',\n",
       "       u'Countryside, outdoors', u'Dancing', u'Musical instruments',\n",
       "       u'Writing', u'Passive sport', u'Active sport', u'Gardening',\n",
       "       u'Celebrities', u'Shopping', u'Science and technology', u'Theatre',\n",
       "       u'Fun with friends', u'Adrenaline sports', u'Pets'],\n",
       "      dtype='object')"
      ]
     },
     "execution_count": 130,
     "metadata": {},
     "output_type": "execute_result"
    }
   ],
   "source": [
    "df.iloc[:,:63].columns"
   ]
  },
  {
   "cell_type": "code",
   "execution_count": 128,
   "metadata": {
    "collapsed": false
   },
   "outputs": [
    {
     "data": {
      "text/plain": [
       "Index([u'Daily events', u'Prioritising workload', u'Writing notes',\n",
       "       u'Workaholism', u'Thinking ahead', u'Final judgement', u'Reliability',\n",
       "       u'Keeping promises', u'Loss of interest', u'Friends versus money',\n",
       "       u'Funniness', u'Fake', u'Criminal damage', u'Decision making',\n",
       "       u'Elections', u'Self-criticism', u'Judgment calls', u'Hypochondria',\n",
       "       u'Empathy', u'Eating to survive', u'Giving', u'Compassion to animals',\n",
       "       u'Borrowed stuff', u'Loneliness', u'Cheating in school', u'Health',\n",
       "       u'Changing the past', u'God', u'Dreams', u'Charity',\n",
       "       u'Number of friends', u'Waiting', u'New environment', u'Mood swings',\n",
       "       u'Appearence and gestures', u'Socializing', u'Achievements',\n",
       "       u'Responding to a serious letter', u'Children', u'Assertiveness',\n",
       "       u'Getting angry', u'Knowing the right people', u'Public speaking',\n",
       "       u'Unpopularity', u'Life struggles', u'Happiness in life',\n",
       "       u'Energy levels', u'Small - big dogs', u'Personality',\n",
       "       u'Finding lost valuables', u'Getting up', u'Interests or hobbies',\n",
       "       u'Parents' advice', u'Questionnaires or polls'],\n",
       "      dtype='object')"
      ]
     },
     "execution_count": 128,
     "metadata": {},
     "output_type": "execute_result"
    }
   ],
   "source": [
    "df.iloc[:,63:].columns"
   ]
  },
  {
   "cell_type": "code",
   "execution_count": 106,
   "metadata": {
    "collapsed": false
   },
   "outputs": [
    {
     "data": {
      "text/plain": [
       "Questionnaires or polls    5.0\n",
       "Geography                  5.0\n",
       "Action                     5.0\n",
       "History                    5.0\n",
       "Psychology                 5.0\n",
       "Politics                   5.0\n",
       "Mathematics                5.0\n",
       "Physics                    5.0\n",
       "Internet                   5.0\n",
       "PC                         5.0\n",
       "dtype: float64"
      ]
     },
     "execution_count": 106,
     "metadata": {},
     "output_type": "execute_result"
    }
   ],
   "source": [
    "df.max().sort_values(ascending=False)[:10]"
   ]
  },
  {
   "cell_type": "code",
   "execution_count": 93,
   "metadata": {
    "collapsed": false
   },
   "outputs": [
    {
     "data": {
      "text/plain": [
       "Passive sport            15\n",
       "Chemistry                10\n",
       "Geography                 9\n",
       "Punk                      8\n",
       "Theatre                   8\n",
       "Documentary               8\n",
       "Latino                    8\n",
       "Countryside, outdoors     7\n",
       "Reggae, Ska               7\n",
       "Final judgement           7\n",
       "dtype: int64"
      ]
     },
     "execution_count": 93,
     "metadata": {},
     "output_type": "execute_result"
    }
   ],
   "source": [
    "df.isnull().sum().sort_values(ascending = False)[:10]"
   ]
  },
  {
   "cell_type": "code",
   "execution_count": 131,
   "metadata": {
    "collapsed": true
   },
   "outputs": [],
   "source": [
    "#fill in missing values with 3\n",
    "df = df.fillna(value=3.0)"
   ]
  },
  {
   "cell_type": "code",
   "execution_count": 132,
   "metadata": {
    "collapsed": true
   },
   "outputs": [],
   "source": [
    "np.random.seed(10)\n",
    "train_idx = np.random.randint(0,df.shape[0],int(df.shape[0]*.7))\n",
    "val_idx = np.random.randint(0,df.shape[0],int(np.floor(df.shape[0]*.25)))\n",
    "test_idx = np.random.randint(0,df.shape[0],int(np.ceil(df.shape[0]*.05)))\n"
   ]
  },
  {
   "cell_type": "code",
   "execution_count": 135,
   "metadata": {
    "collapsed": false
   },
   "outputs": [
    {
     "data": {
      "text/plain": [
       "True"
      ]
     },
     "execution_count": 135,
     "metadata": {},
     "output_type": "execute_result"
    }
   ],
   "source": [
    "#check\n",
    "len(test_idx)+len(train_idx)+len(val_idx)==df.shape[0]"
   ]
  },
  {
   "cell_type": "code",
   "execution_count": 140,
   "metadata": {
    "collapsed": true
   },
   "outputs": [],
   "source": [
    "df.iloc[train_idx].to_csv('train.csv', index=False)\n",
    "df.iloc[val_idx].to_csv('val.csv', index=False)\n",
    "df.iloc[test_idx].to_csv('test.csv', index=False)"
   ]
  },
  {
   "cell_type": "code",
   "execution_count": null,
   "metadata": {
    "collapsed": true
   },
   "outputs": [],
   "source": []
  }
 ],
 "metadata": {
  "anaconda-cloud": {},
  "kernelspec": {
   "display_name": "Python [default]",
   "language": "python",
   "name": "python2"
  },
  "language_info": {
   "codemirror_mode": {
    "name": "ipython",
    "version": 2
   },
   "file_extension": ".py",
   "mimetype": "text/x-python",
   "name": "python",
   "nbconvert_exporter": "python",
   "pygments_lexer": "ipython2",
   "version": "2.7.12"
  }
 },
 "nbformat": 4,
 "nbformat_minor": 2
}
