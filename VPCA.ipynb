{
 "cells": [
  {
   "cell_type": "code",
   "execution_count": 8,
   "metadata": {
    "collapsed": false
   },
   "outputs": [],
   "source": [
    "import pandas as pd\n",
    "import numpy as np\n",
    "from sklearn.preprocessing import scale\n",
    "from sklearn.decomposition import PCA\n",
    "from sklearn.metrics import confusion_matrix\n",
    "import mord\n",
    "import itertools\n",
    "import vbmfa.fa as vbfa\n",
    "\n",
    "\n",
    "import matplotlib.pyplot as plt\n",
    "import seaborn as sns\n",
    "from plot_confusion import *\n",
    "import matplotlib.cm as plt_cm\n",
    "import matplotlib.colors as plt_col\n",
    "import matplotlib.patches as plt_patches"
   ]
  },
  {
   "cell_type": "code",
   "execution_count": 9,
   "metadata": {
    "collapsed": true
   },
   "outputs": [],
   "source": [
    "def plot_scatter(x, classes, ax=None):\n",
    "    ax = plt.gca() if ax is None else ax\n",
    "    cmap = plt_cm.jet\n",
    "    norm = plt_col.Normalize(vmin=np.min(classes), vmax=np.max(classes))\n",
    "    mapper = plt_cm.ScalarMappable(cmap=cmap, norm=norm)\n",
    "    colors = mapper.to_rgba(classes)\n",
    "    ax.scatter(x[0, :], x[1, :], color=colors, s=20)\n",
    "         \n",
    "def plot_mse(mse):\n",
    "    fig, ax = plt.subplots(figsize=(10, 4))\n",
    "    ax.plot(mse, linewidth=2, marker='s',markersize=5, markerfacecolor='red')\n",
    "    ax.set_xlabel('Iteration')\n",
    "    ax.set_ylabel('MSE')\n",
    "    \n",
    "def plot_grid(n, ncols=4, size=(5, 5)):\n",
    "    nrows = int(np.ceil(n/float(ncols)))\n",
    "    fig, ax = plt.subplots(nrows=nrows, ncols=ncols, figsize=(size[0]*ncols, size[1]*nrows))\n",
    "    ax = ax.ravel()\n",
    "    return [fig, ax]\n",
    "\n",
    "def plot_grid(n, ncols=4, size=(5, 5)):\n",
    "    nrows = int(np.ceil(n/float(ncols)))\n",
    "    fig, ax = plt.subplots(nrows=nrows, ncols=ncols, figsize=(size[0]*ncols, size[1]*nrows))\n",
    "    ax = ax.ravel()\n",
    "    return [fig, ax]\n",
    "    \n",
    "def plot_compress(q, n=30):\n",
    "    np.random.seed(0)\n",
    "    fa = vbfa.VbFa(data_y, q)\n",
    "    fa.fit()\n",
    "    y = fa.x_to_y()\n",
    "    fig, ax = plot_grid(n, ncols=10)\n",
    "    dim = int(np.sqrt(fa.P))\n",
    "    for i in range(n):\n",
    "        ax[i].matshow(y[:, i].reshape(dim, dim), cmap='binary')\n",
    "        \n",
    "def plot_images(images, n=30, size=2):\n",
    "    fig, ax = plot_grid(n, ncols=10, size=(size, size))\n",
    "    dim = int(np.sqrt(images.shape[0]))\n",
    "    with sns.axes_style('white'):\n",
    "        for i in range(n):\n",
    "            ax[i].grid()\n",
    "            ax[i].set_axis_off()\n",
    "            ax[i].matshow(images[:, i].reshape(dim, dim), cmap='binary')\n",
    "        \n",
    "def plot_ve(ve):\n",
    "    x = np.arange(len(ve))\n",
    "    fig, ax = plt.subplots(figsize=(5, 4))\n",
    "    ax.set_xlabel('Factor')\n",
    "    ax.set_ylabel('% Variance explained')\n",
    "    ax.bar(x, ve)"
   ]
  },
  {
   "cell_type": "code",
   "execution_count": 10,
   "metadata": {
    "collapsed": true
   },
   "outputs": [],
   "source": [
    "df = pd.read_csv('data/train.csv')"
   ]
  },
  {
   "cell_type": "code",
   "execution_count": 11,
   "metadata": {
    "collapsed": true
   },
   "outputs": [],
   "source": [
    "music = df.iloc[:,:19]\n",
    "movies = df.iloc[:,19:31]\n",
    "interests = df.iloc[:,31:63]\n",
    "personality = df.iloc[:,63:]\n",
    "data = {'music':music,'movies':movies,'interests':interests,'personality':personality}"
   ]
  },
  {
   "cell_type": "code",
   "execution_count": 12,
   "metadata": {
    "collapsed": true
   },
   "outputs": [],
   "source": [
    "observables = df.iloc[:,:63]"
   ]
  },
  {
   "cell_type": "code",
   "execution_count": 13,
   "metadata": {
    "collapsed": false
   },
   "outputs": [
    {
     "data": {
      "text/plain": [
       "Index([u'Music', u'Slow songs or fast songs', u'Dance', u'Folk', u'Country',\n",
       "       u'Classical music', u'Musical', u'Pop', u'Rock', u'Metal or Hardrock',\n",
       "       u'Punk', u'Hiphop, Rap', u'Reggae, Ska', u'Swing, Jazz', u'Rock n roll',\n",
       "       u'Alternative', u'Latino', u'Techno, Trance', u'Opera', u'Movies',\n",
       "       u'Horror', u'Thriller', u'Comedy', u'Romantic', u'Sci-fi', u'War',\n",
       "       u'Fantasy/Fairy tales', u'Animated', u'Documentary', u'Western',\n",
       "       u'Action', u'History', u'Psychology', u'Politics', u'Mathematics',\n",
       "       u'Physics', u'Internet', u'PC', u'Economy Management', u'Biology',\n",
       "       u'Chemistry', u'Reading', u'Geography', u'Foreign languages',\n",
       "       u'Medicine', u'Law', u'Cars', u'Art exhibitions', u'Religion',\n",
       "       u'Countryside, outdoors', u'Dancing', u'Musical instruments',\n",
       "       u'Writing', u'Passive sport', u'Active sport', u'Gardening',\n",
       "       u'Celebrities', u'Shopping', u'Science and technology', u'Theatre',\n",
       "       u'Fun with friends', u'Adrenaline sports', u'Pets'],\n",
       "      dtype='object')"
      ]
     },
     "execution_count": 13,
     "metadata": {},
     "output_type": "execute_result"
    }
   ],
   "source": [
    "observables.columns"
   ]
  },
  {
   "cell_type": "markdown",
   "metadata": {},
   "source": [
    "# VFA for Personality"
   ]
  },
  {
   "cell_type": "code",
   "execution_count": 14,
   "metadata": {
    "collapsed": false
   },
   "outputs": [],
   "source": [
    "np.random.seed(0)\n",
    "data_y = personality.T.values\n",
    "fa = vbfa.VbFa(data_y, 2)\n",
    "mse = [fa.mse()]"
   ]
  },
  {
   "cell_type": "code",
   "execution_count": 15,
   "metadata": {
    "collapsed": false
   },
   "outputs": [
    {
     "data": {
      "text/plain": [
       "(707,)"
      ]
     },
     "execution_count": 15,
     "metadata": {},
     "output_type": "execute_result"
    }
   ],
   "source": [
    "fa.q_x.mean[0].shape"
   ]
  },
  {
   "cell_type": "code",
   "execution_count": 16,
   "metadata": {
    "collapsed": false
   },
   "outputs": [
    {
     "data": {
      "text/plain": [
       "(707,)"
      ]
     },
     "execution_count": 16,
     "metadata": {},
     "output_type": "execute_result"
    }
   ],
   "source": [
    "data_y[1].shape"
   ]
  },
  {
   "cell_type": "code",
   "execution_count": 17,
   "metadata": {
    "collapsed": false
   },
   "outputs": [
    {
     "name": "stdout",
     "output_type": "stream",
     "text": [
      "MSE: 207.801485\n"
     ]
    }
   ],
   "source": [
    "\n",
    "maxit = 11\n",
    "fig, ax = plot_grid(maxit + 1)\n",
    "plot_scatter(fa.q_x.mean, personality['Workaholism'], ax[0])\n",
    "fa.init()\n",
    "for i in range(maxit):\n",
    "    fa.update()\n",
    "    j = i + 1\n",
    "    plot_scatter(fa.q_x.mean, personality['Workaholism'], ax[j])\n",
    "    ax[j].set_title('Iteration {}'.format(j))\n",
    "    mse.append(fa.mse())\n",
    "plot_mse(mse)\n",
    "print('MSE: {:f}'.format(mse[-1]))\n"
   ]
  },
  {
   "cell_type": "markdown",
   "metadata": {},
   "source": [
    "# VFA for Observables"
   ]
  },
  {
   "cell_type": "code",
   "execution_count": 18,
   "metadata": {
    "collapsed": true
   },
   "outputs": [],
   "source": [
    "def plot_iter(model,segments,maxit=7):\n",
    "    fig, ax = plot_grid(maxit + 1)\n",
    "    plot_scatter(model.q_x.mean, segments, ax[0])\n",
    "    model.init()\n",
    "    for i in range(maxit):\n",
    "        model.update()\n",
    "        j = i + 1\n",
    "        plot_scatter(model.q_x.mean, segments, ax[j])\n",
    "        ax[j].set_title('Iteration {}'.format(j))\n",
    "        mse.append(model.mse())\n",
    "    plot_mse(mse)\n",
    "    print('MSE: {:f}'.format(mse[-1]))\n"
   ]
  },
  {
   "cell_type": "code",
   "execution_count": 19,
   "metadata": {
    "collapsed": false
   },
   "outputs": [
    {
     "data": {
      "text/plain": [
       "Index([u'Music', u'Slow songs or fast songs', u'Dance', u'Folk', u'Country',\n",
       "       u'Classical music', u'Musical', u'Pop', u'Rock', u'Metal or Hardrock',\n",
       "       u'Punk', u'Hiphop, Rap', u'Reggae, Ska', u'Swing, Jazz', u'Rock n roll',\n",
       "       u'Alternative', u'Latino', u'Techno, Trance', u'Opera'],\n",
       "      dtype='object')"
      ]
     },
     "execution_count": 19,
     "metadata": {},
     "output_type": "execute_result"
    }
   ],
   "source": [
    "data['music'].columns"
   ]
  },
  {
   "cell_type": "code",
   "execution_count": 20,
   "metadata": {
    "collapsed": false
   },
   "outputs": [
    {
     "name": "stdout",
     "output_type": "stream",
     "text": [
      "MSE: 109.702762\n"
     ]
    }
   ],
   "source": [
    "np.random.seed(0)\n",
    "fa_music = vbfa.VbFa(data['music'].values.T, 2)\n",
    "mse = [fa.mse()]\n",
    "plot_iter(fa_music,data['music']['Hiphop, Rap'])"
   ]
  },
  {
   "cell_type": "code",
   "execution_count": 21,
   "metadata": {
    "collapsed": false
   },
   "outputs": [
    {
     "name": "stdout",
     "output_type": "stream",
     "text": [
      "MSE: 82.019070\n"
     ]
    }
   ],
   "source": [
    "np.random.seed(0)\n",
    "fa_movies = vbfa.VbFa(data['movies'].values.T, 2)\n",
    "mse = [fa.mse()]\n",
    "plot_iter(fa_movies,data['movies']['Comedy'])"
   ]
  },
  {
   "cell_type": "markdown",
   "metadata": {},
   "source": [
    "# Plot personality features fitted on Observables"
   ]
  },
  {
   "cell_type": "code",
   "execution_count": 22,
   "metadata": {
    "collapsed": false
   },
   "outputs": [
    {
     "data": {
      "text/plain": [
       "Index([u'Daily events', u'Prioritising workload', u'Writing notes',\n",
       "       u'Workaholism', u'Thinking ahead', u'Final judgement', u'Reliability',\n",
       "       u'Keeping promises', u'Loss of interest', u'Friends versus money',\n",
       "       u'Funniness', u'Fake', u'Criminal damage', u'Decision making',\n",
       "       u'Elections', u'Self-criticism', u'Judgment calls', u'Hypochondria',\n",
       "       u'Empathy', u'Eating to survive', u'Giving', u'Compassion to animals',\n",
       "       u'Borrowed stuff', u'Loneliness', u'Cheating in school', u'Health',\n",
       "       u'Changing the past', u'God', u'Dreams', u'Charity',\n",
       "       u'Number of friends', u'Waiting', u'New environment', u'Mood swings',\n",
       "       u'Appearence and gestures', u'Socializing', u'Achievements',\n",
       "       u'Responding to a serious letter', u'Children', u'Assertiveness',\n",
       "       u'Getting angry', u'Knowing the right people', u'Public speaking',\n",
       "       u'Unpopularity', u'Life struggles', u'Happiness in life',\n",
       "       u'Energy levels', u'Small - big dogs', u'Personality',\n",
       "       u'Finding lost valuables', u'Getting up', u'Interests or hobbies',\n",
       "       u'Parents' advice', u'Questionnaires or polls'],\n",
       "      dtype='object')"
      ]
     },
     "execution_count": 22,
     "metadata": {},
     "output_type": "execute_result"
    }
   ],
   "source": [
    "personality.columns"
   ]
  },
  {
   "cell_type": "code",
   "execution_count": 23,
   "metadata": {
    "collapsed": false
   },
   "outputs": [
    {
     "name": "stdout",
     "output_type": "stream",
     "text": [
      "MSE: 109.702762\n",
      "Fit on Music, Plot Empathy\n"
     ]
    }
   ],
   "source": [
    "np.random.seed(0)\n",
    "fa_obs = vbfa.VbFa(music.values.T, 2)\n",
    "mse = [fa.mse()]\n",
    "plot_iter(fa_obs,personality['Empathy'])\n",
    "print('Fit on Music, Plot Empathy')"
   ]
  },
  {
   "cell_type": "code",
   "execution_count": 24,
   "metadata": {
    "collapsed": false
   },
   "outputs": [
    {
     "name": "stdout",
     "output_type": "stream",
     "text": [
      "MSE: 171.243633\n",
      "Fit on Interests, Plot Getting up\n"
     ]
    }
   ],
   "source": [
    "np.random.seed(0)\n",
    "fa_obs = vbfa.VbFa(interests.values.T, 2)\n",
    "mse = [fa.mse()]\n",
    "plot_iter(fa_obs,personality['Getting up'])\n",
    "print('Fit on Interests, Plot Getting up')"
   ]
  },
  {
   "cell_type": "markdown",
   "metadata": {},
   "source": [
    "# ordinal regression"
   ]
  },
  {
   "cell_type": "code",
   "execution_count": 94,
   "metadata": {
    "collapsed": false
   },
   "outputs": [
    {
     "data": {
      "image/png": "[encoded data removed]",
      "text/plain": [
       "<matplotlib.figure.Figure at 0x11207b5d0>"
      ]
     },
     "metadata": {},
     "output_type": "display_data"
    },
    {
     "data": {
      "image/png": "[encoded data removed]",
      "text/plain": [
       "<matplotlib.figure.Figure at 0x111fa6e10>"
      ]
     },
     "metadata": {},
     "output_type": "display_data"
    },
    {
     "data": {
      "image/png": "[encoded data removed]",
      "text/plain": [
       "<matplotlib.figure.Figure at 0x1156ae5d0>"
      ]
     },
     "metadata": {},
     "output_type": "display_data"
    }
   ],
   "source": [
    "\n",
    "fa_obs_music = vbfa.VbFa( scale(music.values.T  , with_std=False) )\n",
    "fa_obs_music.fit(maxit = 100)\n",
    "plt.plot( fa_obs_music.variance_explained(sort = True))\n",
    "plt.show()\n",
    "\n",
    "\n",
    "fa_obs_movies = vbfa.VbFa( scale(movies.values.T  , with_std=False) )\n",
    "fa_obs_movies.fit(maxit = 100)\n",
    "plt.plot( fa_obs_movies.variance_explained(sort = True))\n",
    "plt.show()\n",
    "\n",
    "\n",
    "fa_obs_interests = vbfa.VbFa( scale(interests.values.T  , with_std=False)  )\n",
    "fa_obs_interests.fit(maxit = 100)\n",
    "plt.plot( fa_obs_interests.variance_explained(sort = True))\n",
    "plt.show()"
   ]
  },
  {
   "cell_type": "code",
   "execution_count": 26,
   "metadata": {
    "collapsed": false
   },
   "outputs": [
    {
     "data": {
      "text/plain": [
       "(10, 707)"
      ]
     },
     "execution_count": 26,
     "metadata": {},
     "output_type": "execute_result"
    }
   ],
   "source": [
    "fa_obs.q_x.mean.shape"
   ]
  },
  {
   "cell_type": "code",
   "execution_count": 27,
   "metadata": {
    "collapsed": false
   },
   "outputs": [
    {
     "data": {
      "text/plain": [
       "Index([u'Daily events', u'Prioritising workload', u'Writing notes',\n",
       "       u'Workaholism', u'Thinking ahead', u'Final judgement', u'Reliability',\n",
       "       u'Keeping promises', u'Loss of interest', u'Friends versus money',\n",
       "       u'Funniness', u'Fake', u'Criminal damage', u'Decision making',\n",
       "       u'Elections', u'Self-criticism', u'Judgment calls', u'Hypochondria',\n",
       "       u'Empathy', u'Eating to survive', u'Giving', u'Compassion to animals',\n",
       "       u'Borrowed stuff', u'Loneliness', u'Cheating in school', u'Health',\n",
       "       u'Changing the past', u'God', u'Dreams', u'Charity',\n",
       "       u'Number of friends', u'Waiting', u'New environment', u'Mood swings',\n",
       "       u'Appearence and gestures', u'Socializing', u'Achievements',\n",
       "       u'Responding to a serious letter', u'Children', u'Assertiveness',\n",
       "       u'Getting angry', u'Knowing the right people', u'Public speaking',\n",
       "       u'Unpopularity', u'Life struggles', u'Happiness in life',\n",
       "       u'Energy levels', u'Small - big dogs', u'Personality',\n",
       "       u'Finding lost valuables', u'Getting up', u'Interests or hobbies',\n",
       "       u'Parents' advice', u'Questionnaires or polls'],\n",
       "      dtype='object')"
      ]
     },
     "execution_count": 27,
     "metadata": {},
     "output_type": "execute_result"
    }
   ],
   "source": [
    "personality.columns"
   ]
  },
  {
   "cell_type": "code",
   "execution_count": 95,
   "metadata": {
    "collapsed": true
   },
   "outputs": [],
   "source": [
    "#pip intall mord\n",
    "\n",
    "y_true = personality['Loneliness'].values.astype(int)\n",
    "x_fit =  np.concatenate( (fa_obs_music.q_x.mean.T[:,:5] , fa_obs_movies.q_x.mean.T[:,:4] , fa_obs_interests.q_x.mean.T[:,:10]), axis = 1 ) \n"
   ]
  },
  {
   "cell_type": "code",
   "execution_count": 96,
   "metadata": {
    "collapsed": false
   },
   "outputs": [
    {
     "data": {
      "text/plain": [
       "(707, 19)"
      ]
     },
     "execution_count": 96,
     "metadata": {},
     "output_type": "execute_result"
    }
   ],
   "source": [
    "fa_obs_music.q_x.mean.T.shape"
   ]
  },
  {
   "cell_type": "code",
   "execution_count": 97,
   "metadata": {
    "collapsed": false
   },
   "outputs": [],
   "source": [
    "scaled = scale( personality , with_std = False)\n",
    "pca_y = PCA()\n",
    "proj_y = pca_y.fit_transform(scaled)\n",
    "# proj_y[:,0]"
   ]
  },
  {
   "cell_type": "code",
   "execution_count": 98,
   "metadata": {
    "collapsed": false
   },
   "outputs": [],
   "source": [
    "# np.random.seed(0)\n",
    "data_y = personality.T.values\n",
    "fa = vbfa.VbFa(data_y, 1)\n",
    "fa.fit()\n",
    "\n",
    "y_cat , bins_1 = pd.qcut(  proj_y[:,0] , q = 5, labels = [1,2,3,4,5] , retbins=True)\n"
   ]
  },
  {
   "cell_type": "code",
   "execution_count": 107,
   "metadata": {
    "collapsed": false
   },
   "outputs": [
    {
     "name": "stdout",
     "output_type": "stream",
     "text": [
      "Confusion matrix, without normalization\n",
      "[[ 24   9  11   0  30]\n",
      " [ 84  16  26   4  65]\n",
      " [ 83  30  35   2 119]\n",
      " [ 47   8  15   0  41]\n",
      " [ 17   9   6   0  26]]\n"
     ]
    },
    {
     "data": {
      "image/png": "[encoded data removed]",
      "text/plain": [
       "<matplotlib.figure.Figure at 0x116bb2490>"
      ]
     },
     "metadata": {},
     "output_type": "display_data"
    }
   ],
   "source": [
    "ord_logit = mord.LogisticIT(alpha=10)\n",
    "\n",
    "ord_logit.fit(X = x_fit, y = np.array(y_cat) )\n",
    "\n",
    "y_pred = ord_logit.predict(x_fit)\n",
    "\n",
    "plot_confusion_matrix( confusion_matrix( y_true , y_pred ) , classes=[1,2,3,4,5] ,size = 5)"
   ]
  },
  {
   "cell_type": "code",
   "execution_count": null,
   "metadata": {
    "collapsed": true
   },
   "outputs": [],
   "source": []
  }
 ],
 "metadata": {
  "kernelspec": {
   "display_name": "Python [default]",
   "language": "python",
   "name": "python2"
  },
  "language_info": {
   "codemirror_mode": {
    "name": "ipython",
    "version": 2
   },
   "file_extension": ".py",
   "mimetype": "text/x-python",
   "name": "python",
   "nbconvert_exporter": "python",
   "pygments_lexer": "ipython2",
   "version": "2.7.12"
  }
 },
 "nbformat": 4,
 "nbformat_minor": 2
}
